{
 "cells": [
  {
   "cell_type": "markdown",
   "metadata": {},
   "source": [
    "## Sedflux3D\n",
    "\n",
    "* Link to this notebook: https://github.com/csdms/sedhyd-2019/blob/master/notebooks/sedflux3d.ipynb"
   ]
  },
  {
   "cell_type": "markdown",
   "metadata": {},
   "source": [
    "Import the `Sedflux3D` component from `pymt`. All of the components available to `pymt` are located in `pymt.models`. Here I've renamed the component to be `Model` to show that you could run these same commands with other models as well. For instance, you could instead import `Child` with `from pymt.models import Child as Model` and repeat this exercise with Child instead."
   ]
  },
  {
   "cell_type": "code",
   "execution_count": 1,
   "metadata": {},
   "outputs": [],
   "source": [
    "# Some magic to make plots appear within the notebook\n",
    "%matplotlib inline\n",
    "\n",
    "import numpy as np # In case we need to use numpy"
   ]
  },
  {
   "cell_type": "code",
   "execution_count": 2,
   "metadata": {},
   "outputs": [
    {
     "name": "stderr",
     "output_type": "stream",
     "text": [
      "\u001b[33;01m➡ models: Avulsion, Plume, Sedflux3D, Subside, FrostNumber, Ku, ExponentialWeatherer, Flexure, FlowAccumulator, FlowDirectorD8, FlowDirectorDINF, FlowDirectorSteepest, FlowRouter, LinearDiffuser, OverlandFlow, SoilMoisture, StreamPowerEroder, TransportLengthHillslopeDiffuser, Vegetation, Hydrotrend, Cem, Waves\u001b[39;49;00m\n"
     ]
    }
   ],
   "source": [
    "import pymt.models"
   ]
  },
  {
   "cell_type": "markdown",
   "metadata": {},
   "source": [
    "Instantiate the model. If you wanted, you could have multiple instances of the same model - each with their own state. A PyMT component is instantiate without any arguments.\n",
    "\n",
    "Note that if you get an error that looks like,\n",
    "\n",
    "    AttributeError: module 'pymt.models' has no attribute 'Sedflux3D'\n",
    "\n",
    "it probably means that you have not installed the *sedflux* pymt component. You can install *sedflux* with *conda*,\n",
    "\n",
    "    $ conda install pymt_sedflux -c conda-forge\n",
    "\n",
    "(unless you're on Windows 😞)."
   ]
  },
  {
   "cell_type": "code",
   "execution_count": 3,
   "metadata": {},
   "outputs": [],
   "source": [
    "model = pymt.models.Sedflux3D()"
   ]
  },
  {
   "cell_type": "markdown",
   "metadata": {},
   "source": [
    "PyMT adds a docstring to the model. It is important to us that credit it given where credit is due. We want to make it clear that when we include a component in our framework the component is not ours but belong to the model's author. To that end, the model documentation includes a list of model authors, DOIs, as well as full citations to use if someone uses the model. In addition, to keep models from being black boxes, and because they are all open source, we provide links to source code. "
   ]
  },
  {
   "cell_type": "code",
   "execution_count": 4,
   "metadata": {},
   "outputs": [
    {
     "name": "stdout",
     "output_type": "stream",
     "text": [
      "Help on Sedflux3D in module pymt.framework.bmi_bridge object:\n",
      "\n",
      "class Sedflux3D(BmiCap)\n",
      " |  Basic Model Interface for sedflux.\n",
      " |  \n",
      " |  Sedflux3D is a basin filling stratigraphic model. Sedflux3d simulates\n",
      " |  long-term marine sediment transport and accumulation into a three-\n",
      " |  dimensional basin over time scales of tens of thousands of years. It\n",
      " |  simulates the dynamics of strata formation of continental margins\n",
      " |  based on distribution of river plumes and tectonics.\n",
      " |  \n",
      " |  Author:\n",
      " |  - Eric Hutton\n",
      " |  Version: 2.1\n",
      " |  License: MIT\n",
      " |  DOI: 10.1594/IEDA/100161\n",
      " |  URL: http://csdms.colorado.edu/wiki/Model_help:Sedflux\n",
      " |  \n",
      " |  Cite as:\n",
      " |  \n",
      " |      @article{hutton2008sedflux,\n",
      " |      title={Sedflux 2.0: An advanced process-response model that generates three-dimensional stratigraphy},\n",
      " |      author={Hutton, Eric WH and Syvitski, James PM},\n",
      " |      journal={Computers \\& Geosciences},\n",
      " |      volume={34},\n",
      " |      number={10},\n",
      " |      pages={1319--1337},\n",
      " |      year={2008},\n",
      " |      publisher={Pergamon}\n",
      " |      }\n",
      " |  \n",
      " |  \n",
      " |  Parameters\n",
      " |  ----------\n",
      " |  bathymetry_file : str, optional\n",
      " |      CSV-formatted bathymetry file [default=sedflux_3d_bathy.csv ]\n",
      " |  bathymetry_method : str, optional\n",
      " |      Use a bathymetry with a linear shelf and slope [default=linear ]\n",
      " |  bed_load_dump_length : float, optional\n",
      " |      Distance from the river mouth over which to dump bed load\n",
      " |      [default=2000.0 m]\n",
      " |  bed_load_sediment_diffusion_coefficient : float, optional\n",
      " |      Diffusion coefficient of bed-load sediment [default=0.25 -]\n",
      " |  bed_load_sediment_grain_density : float, optional\n",
      " |      Grain density of bed-load sediment [default=2625.0 kg m^-3]\n",
      " |  bed_load_sediment_grain_size : float, optional\n",
      " |      Grain size of bed-load sediment [default=400.0 um]\n",
      " |  bed_load_sediment_minimum_void_ratio : float, optional\n",
      " |      Void ratio of bed-load sediment in closest-packed state [default=0.3\n",
      " |      -]\n",
      " |  bed_load_sediment_saturated_density : float, optional\n",
      " |      Saturated bulk-density of bed-load sediment [default=1850.0 kg m^-3]\n",
      " |  compaction_process_is_on : str, optional\n",
      " |      Turn on/off the compaction process module [default=False ]\n",
      " |  domain_width : float, optional\n",
      " |      Width of model domain [default=200000.0 m]\n",
      " |  ending_sea_level_elevation : float, optional\n",
      " |      Grid [default=0.0 m]\n",
      " |  isostasy_effective_elastic_thickness : float, optional\n",
      " |      Effective elastic thickness of crust [default=65000.0 m]\n",
      " |  isostasy_process_is_on : str, optional\n",
      " |      Turn on/off the isostasy process module [default=False ]\n",
      " |  isostasy_relaxation_time : float, optional\n",
      " |      Relaxation time of crust [default=5000.0 Pa]\n",
      " |  isostasy_youngs_modulus : float, optional\n",
      " |      Youngs modulus [default=70000000000.0 Pa]\n",
      " |  plume_cross_shore_nodes : int, optional\n",
      " |      Number of nodes in the cross-shore direction of the plume solution\n",
      " |      grid (must be odd) [default=21 -]\n",
      " |  plume_max_width : float, optional\n",
      " |      Maximum width of the river plume [default=15.0 km]\n",
      " |  plume_river_mouth_nodes : int, optional\n",
      " |      Number of nodes within the river mouth of the plume solution grid\n",
      " |      (must be odd) [default=3 -]\n",
      " |  river_bed_load_flux : float, optional\n",
      " |      Bed-load flux at river mouth [default=70.0 kg/s]\n",
      " |  river_depth : float, optional\n",
      " |      Depth of river at river mouth [default=4.0 m]\n",
      " |  river_suspended_load_concentration_0 : float, optional\n",
      " |      Suspended load concentration of grain class 0 [default=0.1 kg/m^3]\n",
      " |  river_suspended_load_concentration_1 : float, optional\n",
      " |      Suspended load concentration of grain class 1 [default=0.1 kg/m^3]\n",
      " |  river_velocity : float, optional\n",
      " |      Flow velocity at river mouth [default=1.2 m/s]\n",
      " |  river_width : float, optional\n",
      " |      Width of river at river mouth [default=400.0 m]\n",
      " |  run_duration : float, optional\n",
      " |      Total model run time [default=36500.0 d]\n",
      " |  sea_level_file : str, optional\n",
      " |      CSV-formatted sea-level file [default=sedflux_3d_sea_level.csv ]\n",
      " |  sea_level_method : str, optional\n",
      " |      Use a linear rise/fall in sea level or user-defined [default=linear ]\n",
      " |  shelf_gradient : float, optional\n",
      " |      Gradient of shelf [default=0.001 m]\n",
      " |  shelf_width : float, optional\n",
      " |      Width of shelf [default=100000.0 m]\n",
      " |  slope_gradient : float, optional\n",
      " |      Gradient of slope [default=0.01 m]\n",
      " |  starting_sea_level_elevation : float, optional\n",
      " |      Sea level at simulation start [default=0.0 m]\n",
      " |  suspended_load_sediment_1_diffusion_coefficient : float, optional\n",
      " |      Diffusion coefficient of suspended-load sediment class 1 [default=0.25\n",
      " |      -]\n",
      " |  suspended_load_sediment_1_grain_density : float, optional\n",
      " |      Grain density of suspended-load sediment class 1 [default=2600.0 kg\n",
      " |      m^-3]\n",
      " |  suspended_load_sediment_1_grain_size : float, optional\n",
      " |      Grain size of suspended-load sediment class 1 [default=150.0 um]\n",
      " |  suspended_load_sediment_1_minimum_void_ratio : float, optional\n",
      " |      Void ratio of suspended-load sediment class 1 in closest-packed state\n",
      " |      [default=0.2 -]\n",
      " |  suspended_load_sediment_1_removal_rate : float, optional\n",
      " |      Removal rate of suspended-load sediment class 1 [default=16.8 d^-1]\n",
      " |  suspended_load_sediment_1_saturated_density : float, optional\n",
      " |      Saturated bulk-density of suspended-load sediment class 1\n",
      " |      [default=1800.0 kg m^-3]\n",
      " |  suspended_load_sediment_2_diffusion_coefficient : float, optional\n",
      " |      Diffusion coefficient of suspended-load sediment class 2 [default=0.25\n",
      " |      -]\n",
      " |  suspended_load_sediment_2_grain_density : float, optional\n",
      " |      Grain density of suspended-load sediment class 2 [default=2400.0 kg\n",
      " |      m^-3]\n",
      " |  suspended_load_sediment_2_grain_size : float, optional\n",
      " |      Grain size of suspended-load sediment class 2 [default=50.0 um]\n",
      " |  suspended_load_sediment_2_minimum_void_ratio : float, optional\n",
      " |      Void ratio of suspended-load sediment class 2 in closest-packed state\n",
      " |      [default=0.1 -]\n",
      " |  suspended_load_sediment_2_removal_rate : float, optional\n",
      " |      Removal rate of suspended-load sediment class 2 [default=1.0 d^-1]\n",
      " |  suspended_load_sediment_2_saturated_density : float, optional\n",
      " |      Saturated bulk-density of suspended-load sediment class 2\n",
      " |      [default=1600.0 kg m^-3]\n",
      " |  x_resolution : float, optional\n",
      " |      Grid resolution in the x-direction [default=500.0 m]\n",
      " |  y_resolution : float, optional\n",
      " |      Grid resolution in the y-direction [default=500.0 m]\n",
      " |  z_resolution : float, optional\n",
      " |      Resolution in the vertical direction [default=0.5 m]\n",
      " |  \n",
      " |  Examples\n",
      " |  --------\n",
      " |  >>> from pymt.models import sedflux\n",
      " |  >>> model = sedflux()\n",
      " |  >>> (fname, initdir) = model.setup()\n",
      " |  >>> model.initialize(fname, dir=initdir)\n",
      " |  >>> for _ in xrange(10):\n",
      " |  ...     model.update()\n",
      " |  >>> model.finalize()\n",
      " |  \n",
      " |  Method resolution order:\n",
      " |      Sedflux3D\n",
      " |      BmiCap\n",
      " |      pymt.framework.bmi_mapper.GridMapperMixIn\n",
      " |      _BmiCap\n",
      " |      DeprecatedMethods\n",
      " |      pymt.framework.bmi_timeinterp.BmiTimeInterpolator\n",
      " |      pymt.framework.bmi_setup.SetupMixIn\n",
      " |      builtins.object\n",
      " |  \n",
      " |  Methods defined here:\n",
      " |  \n",
      " |  __repr__(self)\n",
      " |  \n",
      " |  __str__(self)\n",
      " |  \n",
      " |  ----------------------------------------------------------------------\n",
      " |  Methods inherited from pymt.framework.bmi_mapper.GridMapperMixIn:\n",
      " |  \n",
      " |  map_to(self, name, **kwds)\n",
      " |      Map values to another grid.\n",
      " |      \n",
      " |      Parameters\n",
      " |      ----------\n",
      " |      name : str\n",
      " |          Name of values to push.\n",
      " |  \n",
      " |  map_value(self, name, **kwds)\n",
      " |      Map values from another grid.\n",
      " |      \n",
      " |      Parameters\n",
      " |      ----------\n",
      " |      name : str\n",
      " |          Name of values to map to.\n",
      " |      mapfrom : tuple or bmi_like, optional\n",
      " |          BMI object from which values are mapped from. This can also be\n",
      " |          a tuple of *(name, bmi)*, where *name* is the variable of the\n",
      " |          source grid and *bmi* is the bmi-like source. If not provided,\n",
      " |          use *self*.\n",
      " |      nomap : narray of bool, optional\n",
      " |          Values in the destination grid to not map.\n",
      " |  \n",
      " |  regrid(self, name, **kwds)\n",
      " |      Regrid values from one grid to another.\n",
      " |      \n",
      " |      Parameters\n",
      " |      ----------\n",
      " |      name : str\n",
      " |          Name of the values to regrid.\n",
      " |      to : bmi_like, optional\n",
      " |          BMI object onto which to map values. If not provided, map\n",
      " |          values onto one of the object's own grids.\n",
      " |      to_name : str, optional\n",
      " |          Name of the value to map onto. If not provided, use *name*.\n",
      " |      \n",
      " |      Returns\n",
      " |      -------\n",
      " |      ndarray\n",
      " |          The regridded values.\n",
      " |  \n",
      " |  set_value(self, name, *args, **kwds)\n",
      " |      Set values for a variable.\n",
      " |      set_value(name, value)\n",
      " |      set_value(name, mapfrom=self, nomap=None)\n",
      " |      \n",
      " |      Parameters\n",
      " |      ----------\n",
      " |      name : str\n",
      " |          Name of the destination values.\n",
      " |  \n",
      " |  ----------------------------------------------------------------------\n",
      " |  Data descriptors inherited from pymt.framework.bmi_mapper.GridMapperMixIn:\n",
      " |  \n",
      " |  __dict__\n",
      " |      dictionary for instance variables (if defined)\n",
      " |  \n",
      " |  __weakref__\n",
      " |      list of weak references to the object (if defined)\n",
      " |  \n",
      " |  ----------------------------------------------------------------------\n",
      " |  Methods inherited from _BmiCap:\n",
      " |  \n",
      " |  __init__(self)\n",
      " |      Initialize self.  See help(type(self)) for accurate signature.\n",
      " |  \n",
      " |  as_dict(self)\n",
      " |  \n",
      " |  as_json(self)\n",
      " |  \n",
      " |  as_yaml(self)\n",
      " |  \n",
      " |  finalize(self)\n",
      " |  \n",
      " |  get_component_name(self)\n",
      " |  \n",
      " |  get_input_var_names(self)\n",
      " |  \n",
      " |  get_output_var_names(self)\n",
      " |  \n",
      " |  get_value(self, name, out=None, units=None, angle=None, at=None, method=None)\n",
      " |  \n",
      " |  get_value_ptr(self, name)\n",
      " |  \n",
      " |  grid_dim(self, grid, dim)\n",
      " |  \n",
      " |  grid_edge_count(self, grid)\n",
      " |  \n",
      " |  grid_face_count(self, grid)\n",
      " |  \n",
      " |  grid_face_node_connectivity(self, grid, out=None)\n",
      " |  \n",
      " |  grid_face_node_offset(self, grid, out=None)\n",
      " |  \n",
      " |  grid_face_nodes(self, grid, out=None)\n",
      " |  \n",
      " |  grid_ndim(self, grid)\n",
      " |  \n",
      " |  grid_node_count(self, grid)\n",
      " |  \n",
      " |  grid_nodes_per_face(self, grid, out=None)\n",
      " |  \n",
      " |  grid_origin(self, grid, out=None)\n",
      " |  \n",
      " |  grid_shape(self, grid, out=None)\n",
      " |  \n",
      " |  grid_spacing(self, grid, out=None)\n",
      " |  \n",
      " |  grid_type(self, grid)\n",
      " |  \n",
      " |  grid_vertex_count(self, grid)\n",
      " |  \n",
      " |  grid_x(self, grid, out=None)\n",
      " |  \n",
      " |  grid_y(self, grid, out=None)\n",
      " |  \n",
      " |  grid_z(self, grid, out=None)\n",
      " |  \n",
      " |  initialize(self, fname=None, dir='.')\n",
      " |      Initialize the model.\n",
      " |      \n",
      " |      Parameters\n",
      " |      ----------\n",
      " |      fname : str\n",
      " |          Name of initialization file.\n",
      " |      dir : str\n",
      " |          Path to folder in which to run initialization.\n",
      " |  \n",
      " |  quick_plot(self, name, **kwds)\n",
      " |  \n",
      " |  time_from(self, time, units)\n",
      " |  \n",
      " |  time_in(self, time, units)\n",
      " |  \n",
      " |  update(self)\n",
      " |  \n",
      " |  var_grid(self, name)\n",
      " |  \n",
      " |  var_grid_loc(self, name)\n",
      " |  \n",
      " |  var_intent(self, name)\n",
      " |  \n",
      " |  var_itemsize(self, name)\n",
      " |  \n",
      " |  var_location(self, name)\n",
      " |  \n",
      " |  var_nbytes(self, name)\n",
      " |  \n",
      " |  var_type(self, name)\n",
      " |  \n",
      " |  var_units(self, name)\n",
      " |  \n",
      " |  ----------------------------------------------------------------------\n",
      " |  Data descriptors inherited from _BmiCap:\n",
      " |  \n",
      " |  bmi\n",
      " |  \n",
      " |  end_time\n",
      " |  \n",
      " |  grid\n",
      " |  \n",
      " |  initdir\n",
      " |  \n",
      " |  input_var_names\n",
      " |  \n",
      " |  name\n",
      " |  \n",
      " |  output_var_names\n",
      " |  \n",
      " |  start_time\n",
      " |  \n",
      " |  time\n",
      " |  \n",
      " |  time_step\n",
      " |  \n",
      " |  time_units\n",
      " |  \n",
      " |  var\n",
      " |  \n",
      " |  ----------------------------------------------------------------------\n",
      " |  Data and other attributes inherited from _BmiCap:\n",
      " |  \n",
      " |  NUMBER_OF_ELEMENTS = {'edge': 'grid_edge_count', 'face': 'grid_face_co...\n",
      " |  \n",
      " |  ----------------------------------------------------------------------\n",
      " |  Methods inherited from DeprecatedMethods:\n",
      " |  \n",
      " |  get_grid_dim(self, grid, dim)\n",
      " |  \n",
      " |  get_grid_face_node_connectivity(self, grid, out=None)\n",
      " |  \n",
      " |  get_grid_face_node_offset(self, grid, out=None)\n",
      " |  \n",
      " |  get_grid_face_nodes(self, grid, out=None)\n",
      " |  \n",
      " |  get_grid_ndim(self, grid)\n",
      " |  \n",
      " |  get_grid_nodes_per_face(self, grid, out=None)\n",
      " |  \n",
      " |  get_grid_number_of_edges(self, grid)\n",
      " |  \n",
      " |  get_grid_number_of_faces(self, grid)\n",
      " |  \n",
      " |  get_grid_number_of_nodes(self, grid)\n",
      " |  \n",
      " |  get_grid_number_of_vertices(self, grid)\n",
      " |  \n",
      " |  get_grid_origin(self, grid, out=None)\n",
      " |  \n",
      " |  get_grid_rank(self, grid)\n",
      " |  \n",
      " |  get_grid_shape(self, grid, out=None)\n",
      " |  \n",
      " |  get_grid_size(self, grid)\n",
      " |  \n",
      " |  get_grid_spacing(self, grid, out=None)\n",
      " |  \n",
      " |  get_grid_type(self, grid)\n",
      " |  \n",
      " |  get_grid_x(self, grid, out=None)\n",
      " |  \n",
      " |  get_grid_y(self, grid, out=None)\n",
      " |  \n",
      " |  get_grid_z(self, grid, out=None)\n",
      " |  \n",
      " |  get_var_grid(self, name)\n",
      " |  \n",
      " |  get_var_grid_loc(self, name)\n",
      " |  \n",
      " |  get_var_intent(self, name)\n",
      " |  \n",
      " |  get_var_itemsize(self, name)\n",
      " |  \n",
      " |  get_var_location(self, name)\n",
      " |  \n",
      " |  get_var_nbytes(self, name)\n",
      " |  \n",
      " |  get_var_type(self, name)\n",
      " |  \n",
      " |  get_var_units(self, name)\n",
      " |  \n",
      " |  ----------------------------------------------------------------------\n",
      " |  Methods inherited from pymt.framework.bmi_timeinterp.BmiTimeInterpolator:\n",
      " |  \n",
      " |  add_data(self)\n",
      " |  \n",
      " |  interpolate(self, name, at)\n",
      " |  \n",
      " |  reset(self, method='linear')\n",
      " |  \n",
      " |  update_until(self, then, method=None, units=None)\n",
      " |  \n",
      " |  ----------------------------------------------------------------------\n",
      " |  Methods inherited from pymt.framework.bmi_setup.SetupMixIn:\n",
      " |  \n",
      " |  setup(self, *args, **kwds)\n",
      " |      Set up a simulation.\n",
      " |      \n",
      " |      Parameters\n",
      " |      ----------\n",
      " |      path : str, optional\n",
      " |          Path to a folder to set up the simulation. If not given,\n",
      " |          use a temporary folder.\n",
      " |      \n",
      " |      Returns\n",
      " |      -------\n",
      " |      str\n",
      " |          Path to the folder that contains the set up simulation.\n",
      " |  \n",
      " |  ----------------------------------------------------------------------\n",
      " |  Data descriptors inherited from pymt.framework.bmi_setup.SetupMixIn:\n",
      " |  \n",
      " |  author\n",
      " |  \n",
      " |  cite_as\n",
      " |  \n",
      " |  contact\n",
      " |  \n",
      " |  datadir\n",
      " |  \n",
      " |  defaults\n",
      " |  \n",
      " |  doi\n",
      " |  \n",
      " |  email\n",
      " |  \n",
      " |  license\n",
      " |  \n",
      " |  parameters\n",
      " |  \n",
      " |  summary\n",
      " |  \n",
      " |  url\n",
      " |  \n",
      " |  version\n",
      "\n"
     ]
    }
   ],
   "source": [
    "help(model)"
   ]
  },
  {
   "cell_type": "markdown",
   "metadata": {},
   "source": [
    "The following code is generic for all `pymt` components - not just `Sedflux3D`. First we instantiate the component and then call its `setup` method to create a model simulation with the necessary input files (note that this is ***not*** a BMI method but something added by PyMT). `setup` takes an optional argument that gives a path to a folder that will contain the necessary input files (if not provided, a temporary folder will be used). `setup` returns the name of the config file and the path to the folder containing it (we'll use this information later when we run `initialize`)."
   ]
  },
  {
   "cell_type": "code",
   "execution_count": 6,
   "metadata": {},
   "outputs": [],
   "source": [
    "config_file, initdir = model.setup('_model', run_duration=3650000.)"
   ]
  },
  {
   "cell_type": "markdown",
   "metadata": {},
   "source": [
    "If we look inside the `_model` folder, we can see all of the necessary sedflux input files ready to run."
   ]
  },
  {
   "cell_type": "code",
   "execution_count": 7,
   "metadata": {},
   "outputs": [
    {
     "name": "stdout",
     "output_type": "stream",
     "text": [
      "sedflux.info              sedflux_3d_init.kvf       sedflux_3d_sea_level.csv\r\n",
      "sedflux_3d_argv.txt       sedflux_3d_process.kvf    sedflux_3d_sediment.kvf\r\n",
      "sedflux_3d_bathy.csv      sedflux_3d_river.kvf\r\n"
     ]
    }
   ],
   "source": [
    "ls _model"
   ]
  },
  {
   "cell_type": "markdown",
   "metadata": {},
   "source": [
    "The `initialize` method reads all of the input files and gets the model ready to update through time."
   ]
  },
  {
   "cell_type": "code",
   "execution_count": 8,
   "metadata": {},
   "outputs": [],
   "source": [
    "model.initialize(config_file, dir=initdir)"
   ]
  },
  {
   "cell_type": "code",
   "execution_count": 9,
   "metadata": {},
   "outputs": [
    {
     "data": {
      "text/plain": [
       "('bedrock_surface__elevation',\n",
       " 'channel_water_sediment~bedload__mass_flow_rate',\n",
       " 'sea_bottom_sediment__increment_of_thickness',\n",
       " 'bedrock_surface__increment_of_elevation',\n",
       " 'channel_exit_water__volume_flow_rate',\n",
       " 'channel_exit_water_flow__speed',\n",
       " 'channel_exit_x-section__mean_of_width',\n",
       " 'channel_exit_x-section__mean_of_depth',\n",
       " 'channel_exit_water_sediment~suspended__mass_concentration')"
      ]
     },
     "execution_count": 9,
     "metadata": {},
     "output_type": "execute_result"
    }
   ],
   "source": [
    "model.input_var_names"
   ]
  },
  {
   "cell_type": "code",
   "execution_count": 10,
   "metadata": {},
   "outputs": [
    {
     "data": {
      "text/plain": [
       "array([ 0.01])"
      ]
     },
     "execution_count": 10,
     "metadata": {},
     "output_type": "execute_result"
    }
   ],
   "source": [
    "model.set_value(\"channel_exit_water_flow__speed\", 1.2)\n",
    "model.set_value(\"channel_exit_x-section__mean_of_width\", 400.)\n",
    "model.set_value(\"channel_exit_x-section__mean_of_depth\", 4.)\n",
    "model.set_value(\"channel_exit_water_sediment~suspended__mass_concentration\", .01)"
   ]
  },
  {
   "cell_type": "markdown",
   "metadata": {},
   "source": [
    "Here we update the model for 10 time steps, printing the model time after each step."
   ]
  },
  {
   "cell_type": "code",
   "execution_count": 11,
   "metadata": {},
   "outputs": [
    {
     "name": "stdout",
     "output_type": "stream",
     "text": [
      "365.00000000036493\n",
      "730.0000000010949\n",
      "1095.00000000219\n",
      "1460.00000000365\n",
      "1825.000000005475\n",
      "2190.000000007665\n",
      "2555.00000001022\n",
      "2920.00000001314\n",
      "3285.0000000164246\n",
      "3650.0000000200744\n"
     ]
    }
   ],
   "source": [
    "for t in range(10):\n",
    "    model.update()\n",
    "    print(model.time)"
   ]
  },
  {
   "cell_type": "markdown",
   "metadata": {},
   "source": [
    "From the output it appears that sedflux is operating on a 1 year time step and is using units of *days*. We can double check that assumption."
   ]
  },
  {
   "cell_type": "code",
   "execution_count": 12,
   "metadata": {
    "scrolled": true
   },
   "outputs": [
    {
     "data": {
      "text/plain": [
       "'d'"
      ]
     },
     "execution_count": 12,
     "metadata": {},
     "output_type": "execute_result"
    }
   ],
   "source": [
    "model.time_units"
   ]
  },
  {
   "cell_type": "markdown",
   "metadata": {},
   "source": [
    "Yep, *days*. And the time step..."
   ]
  },
  {
   "cell_type": "code",
   "execution_count": 13,
   "metadata": {},
   "outputs": [
    {
     "data": {
      "text/plain": [
       "365.0"
      ]
     },
     "execution_count": 13,
     "metadata": {},
     "output_type": "execute_result"
    }
   ],
   "source": [
    "model.time_step"
   ]
  },
  {
   "cell_type": "markdown",
   "metadata": {},
   "source": [
    "The `update_until` method gives us more control by allowing us to update to a particular time. Using the `units` keyword allows us to specify the \"until\" time. Here we update the model until 20 years."
   ]
  },
  {
   "cell_type": "code",
   "execution_count": 14,
   "metadata": {},
   "outputs": [
    {
     "data": {
      "text/plain": [
       "73048.43975632306"
      ]
     },
     "execution_count": 14,
     "metadata": {},
     "output_type": "execute_result"
    }
   ],
   "source": [
    "model.update_until(200., units='year')\n",
    "model.time"
   ]
  },
  {
   "cell_type": "code",
   "execution_count": 15,
   "metadata": {},
   "outputs": [
    {
     "name": "stdout",
     "output_type": "stream",
     "text": [
      "200.00000000020003\n"
     ]
    }
   ],
   "source": [
    "model.time_units = 'year'\n",
    "print(model.time)"
   ]
  },
  {
   "cell_type": "markdown",
   "metadata": {},
   "source": [
    "We've covered how to setup and run a model, now we'll have a look at how to get data out of the model. This is done with the `get_value` method but first we need to look at what variables the model provides. This is held as a tuple of variable names and accessed through the `output_var_names` attribute."
   ]
  },
  {
   "cell_type": "code",
   "execution_count": 16,
   "metadata": {},
   "outputs": [
    {
     "data": {
      "text/plain": [
       "('land-or-seabed_sediment_grain__mean_diameter',\n",
       " 'sea_water__depth',\n",
       " 'sea_bottom_sediment__bulk_mass-per-volume_density',\n",
       " 'sea_bottom_surface__elevation',\n",
       " 'sea_bottom_sediment_grain__mean_diameter',\n",
       " 'bedrock_surface__elevation',\n",
       " 'land-or-seabed_sediment__permeability',\n",
       " 'sediment_grain__mean_diameter',\n",
       " 'land-or-seabed_sediment_surface__y_derivative_of_elevation',\n",
       " 'sea_bottom_sediment__porosity',\n",
       " 'land-or-seabed_sediment_silt__volume_fraction',\n",
       " 'land-or-seabed_sediment_surface__elevation',\n",
       " 'land-or-seabed_sediment_clay__volume_fraction',\n",
       " 'sea_bottom_sediment_mud__volume_fraction',\n",
       " 'land-or-seabed_sediment_sand__volume_fraction',\n",
       " 'land-or-seabed_sediment__mean_of_deposition_age',\n",
       " 'sediment__mean_of_deposition_age',\n",
       " 'sea_bottom_surface__y_derivative_of_elevation',\n",
       " 'sea_bottom_sediment_clay__volume_fraction',\n",
       " 'land-or-seabed_sediment__porosity',\n",
       " 'land-or-seabed_sediment__bulk_mass-per-volume_density',\n",
       " 'land-or-seabed_sediment_mud__volume_fraction',\n",
       " 'land-or-seabed_sediment_surface__x_derivative_of_elevation',\n",
       " 'sediment__porosity',\n",
       " 'sediment__bulk_mass-per-volume_density',\n",
       " 'sea_bottom_sediment__permeability',\n",
       " 'sediment__permeability',\n",
       " 'sea_bottom_surface__x_derivative_of_elevation',\n",
       " 'sea_bottom_sediment_sand__volume_fraction',\n",
       " 'sea_bottom_sediment__mean_of_deposition_age',\n",
       " 'sea_bottom_sediment_silt__volume_fraction',\n",
       " 'channel_exit_water_flow__speed',\n",
       " 'channel_exit_x-section__mean_of_width',\n",
       " 'channel_exit_x-section__mean_of_depth',\n",
       " 'channel_exit_water_sediment~suspended__mass_concentration')"
      ]
     },
     "execution_count": 16,
     "metadata": {},
     "output_type": "execute_result"
    }
   ],
   "source": [
    "model.output_var_names"
   ]
  },
  {
   "cell_type": "markdown",
   "metadata": {},
   "source": [
    "So to get the values of, say, water depth,"
   ]
  },
  {
   "cell_type": "code",
   "execution_count": 17,
   "metadata": {},
   "outputs": [
    {
     "data": {
      "text/plain": [
       "array([ 50.,  50.,  50., ..., -30., -30., -30.])"
      ]
     },
     "execution_count": 17,
     "metadata": {},
     "output_type": "execute_result"
    }
   ],
   "source": [
    "model.get_value('sea_water__depth')"
   ]
  },
  {
   "cell_type": "code",
   "execution_count": 23,
   "metadata": {},
   "outputs": [
    {
     "data": {
      "text/plain": [
       "<DataValues>\n",
       "float64 sea_water__depth(node)\n",
       "Attributes:\n",
       "    units: meter\n",
       "    grid: 0\n",
       "    intent: out\n",
       "    location: node"
      ]
     },
     "execution_count": 23,
     "metadata": {},
     "output_type": "execute_result"
    }
   ],
   "source": [
    "model.var[\"sea_water__depth\"]"
   ]
  },
  {
   "cell_type": "markdown",
   "metadata": {},
   "source": [
    "As with previous methods, you can use the `units` keyword to specify units. Here we get water depths in units of parsecs."
   ]
  },
  {
   "cell_type": "code",
   "execution_count": 18,
   "metadata": {},
   "outputs": [
    {
     "data": {
      "text/plain": [
       "array([  1.62038942e-15,   1.62038942e-15,   1.62038942e-15, ...,\n",
       "        -9.72233655e-16,  -9.72233655e-16,  -9.72233655e-16])"
      ]
     },
     "execution_count": 18,
     "metadata": {},
     "output_type": "execute_result"
    }
   ],
   "source": [
    "model.get_value('sea_water__depth', units='parsec')"
   ]
  },
  {
   "cell_type": "code",
   "execution_count": 20,
   "metadata": {},
   "outputs": [
    {
     "data": {
      "image/png": "[encoded data removed]",
      "text/plain": [
       "<Figure size 432x288 with 2 Axes>"
      ]
     },
     "metadata": {
      "needs_background": "light"
     },
     "output_type": "display_data"
    }
   ],
   "source": [
    "model.quick_plot('sea_water__depth', vmin=-200, vmax=200, cmap='BrBG')"
   ]
  },
  {
   "cell_type": "code",
   "execution_count": 21,
   "metadata": {},
   "outputs": [
    {
     "data": {
      "image/png": "[encoded data removed]",
      "text/plain": [
       "<Figure size 432x288 with 2 Axes>"
      ]
     },
     "metadata": {
      "needs_background": "light"
     },
     "output_type": "display_data"
    }
   ],
   "source": [
    "model.set_value(\"channel_exit_water_sediment~suspended__mass_concentration\", .5)\n",
    "for t in range(10):\n",
    "    model.update()\n",
    "model.quick_plot('sea_water__depth', vmin=-200, vmax=200, cmap='BrBG_r')"
   ]
  },
  {
   "cell_type": "code",
   "execution_count": null,
   "metadata": {},
   "outputs": [],
   "source": []
  }
 ],
 "metadata": {
  "kernelspec": {
   "display_name": "Python 3",
   "language": "python",
   "name": "python3"
  },
  "language_info": {
   "codemirror_mode": {
    "name": "ipython",
    "version": 3
   },
   "file_extension": ".py",
   "mimetype": "text/x-python",
   "name": "python",
   "nbconvert_exporter": "python",
   "pygments_lexer": "ipython3",
   "version": "3.7.3"
  }
 },
 "nbformat": 4,
 "nbformat_minor": 2
}
